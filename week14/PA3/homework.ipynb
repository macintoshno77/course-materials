{
 "cells": [
  {
   "cell_type": "markdown",
   "metadata": {},
   "source": [
    "# 아래 변수에 자신의 학번과 이름을 문자열로 저장하세요"
   ]
  },
  {
   "cell_type": "code",
   "execution_count": null,
   "metadata": {},
   "outputs": [],
   "source": [
    "student_number = '20000000'\n",
    "student_name = '최동혁'"
   ]
  },
  {
   "cell_type": "code",
   "execution_count": null,
   "metadata": {},
   "outputs": [],
   "source": [
    "!pip3 install -r requirements.txt"
   ]
  },
  {
   "cell_type": "markdown",
   "metadata": {},
   "source": [
    "### 만일, 나눔 폰트를 설치하지 않았다면, 여기서 다운받아서 설치해 주세요.\n",
    "[네이버 나눔글꼴](https://hangeul.naver.com/font)\n"
   ]
  },
  {
   "cell_type": "code",
   "execution_count": null,
   "metadata": {},
   "outputs": [],
   "source": [
    "import requests\n",
    "from lxml import html\n",
    "import urllib3\n",
    "import pandas as pd\n",
    "import matplotlib.pyplot as plt\n",
    "from collections import Counter\n",
    "import matplotlib.font_manager as fm\n",
    "# 나눔 폰트가 없다면 설치하기.\n",
    "ft = [(f.name, f.fname) for f in fm.fontManager.ttflist if 'Nanum' in f.name][0][0]\n",
    "plt.rcParams['font.family'] =ft\n",
    "urllib3.disable_warnings(urllib3.exceptions.InsecureRequestWarning)\n"
   ]
  },
  {
   "cell_type": "code",
   "execution_count": null,
   "metadata": {},
   "outputs": [],
   "source": [
    "data = {\n",
    "    'id': 'kla',\n",
    "    'topSearchWord': '',\n",
    "    'pageIndex': '1',\n",
    "    'initPageUnit': '0',\n",
    "    'sillokType': 'S',\n",
    "    'topSearchWord_ime': '',\n",
    "}\n",
    "\n",
    "response = requests.post('https://sillok.history.go.kr/search/inspectionMonthList.do', data=data, verify=False)\n",
    "month_list = [link.split(\"', \")[0].replace(\"javascript:search('\",'') for link in html.fromstring(response.text).xpath('//*[@id=\"cont_area\"]/div/div[2]/ul[2]/li/ul/li//a/@href')]"
   ]
  },
  {
   "cell_type": "code",
   "execution_count": null,
   "metadata": {},
   "outputs": [],
   "source": [
    "days_list = []\n",
    "for month in month_list:\n",
    "    data = {\n",
    "        'id': month,\n",
    "        'did': '',\n",
    "        'level': '3',\n",
    "    }\n",
    "    response = requests.post('https://sillok.history.go.kr/search/inspectionDayList.do', data=data, verify=False)\n",
    "    days = html.fromstring(response.text).xpath('//*[@id=\"cont_area\"]/div[1]/div[3]/div/dl/dd/ul/li/a/@href')\n",
    "    days = [day.split(\"',\")[0].replace(\"javascript:searchView('\",'').replace(\"');\",'') for day in days]\n",
    "    days_list.extend(days)"
   ]
  },
  {
   "cell_type": "markdown",
   "metadata": {},
   "source": [
    "### 문제. day_xpath 변수에 들어갈 적절한 표현을 넣어 주세요.\n",
    "### 분류에 해당하는 요소 선택하기"
   ]
  },
  {
   "cell_type": "code",
   "execution_count": null,
   "metadata": {},
   "outputs": [],
   "source": [
    "base_url ='https://sillok.history.go.kr/id/'\n",
    "injong_categories = []\n",
    "for day_url in days_list:\n",
    "    response = requests.get(base_url+day_url, verify=False)\n",
    "    day_xpath = '//*[@id=\"cont_area\"]/div[1]/div[3]/div[1]/div/div/ul[1]/li[2]/div'\n",
    "    categories = [c.text.split(' / ') for c in html.fromstring(response.text).xpath(day_xpath)]\n",
    "    injong_categories.extend(categories)"
   ]
  },
  {
   "cell_type": "markdown",
   "metadata": {},
   "source": [
    "## 아래 코드를 실행시키고, 출력된 결과를 스크린 캡쳐 또는 이미지 파일로 만들어 블랙보드에 제출합니다."
   ]
  },
  {
   "cell_type": "code",
   "execution_count": null,
   "metadata": {},
   "outputs": [],
   "source": [
    "flat_injong_categories = [item.split(\"(\")[0] for sublist in injong_categories for item in sublist]\n",
    "cnt = Counter(flat_injong_categories)\n",
    "df = pd.DataFrame(cnt.most_common(10), columns=['Category', 'Count'])\n",
    "df.plot(x='Category', y='Count', kind='bar')\n",
    "plt.title(f'{student_number} {student_name}')"
   ]
  }
 ],
 "metadata": {
  "kernelspec": {
   "display_name": "Python 3",
   "language": "python",
   "name": "python3"
  },
  "language_info": {
   "codemirror_mode": {
    "name": "ipython",
    "version": 3
   },
   "file_extension": ".py",
   "mimetype": "text/x-python",
   "name": "python",
   "nbconvert_exporter": "python",
   "pygments_lexer": "ipython3",
   "version": "3.11.5"
  }
 },
 "nbformat": 4,
 "nbformat_minor": 2
}
